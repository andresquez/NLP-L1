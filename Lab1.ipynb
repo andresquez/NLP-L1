{
 "cells": [
  {
   "cell_type": "markdown",
   "id": "9c239d12",
   "metadata": {},
   "source": [
    "# Universidad del Valle de Guatemala\n",
    "# NLP\n",
    "# Andres Quezada 21085\n",
    "# Laboratorio 1 – Anonimización de PII con Expresiones Regulares"
   ]
  },
  {
   "cell_type": "markdown",
   "id": "f883edd6",
   "metadata": {},
   "source": [
    "## Paso 1 – Imports y carga del dataset"
   ]
  },
  {
   "cell_type": "code",
   "execution_count": 80,
   "id": "ef5bb70d",
   "metadata": {},
   "outputs": [
    {
     "data": {
      "text/html": [
       "<div>\n",
       "<style scoped>\n",
       "    .dataframe tbody tr th:only-of-type {\n",
       "        vertical-align: middle;\n",
       "    }\n",
       "\n",
       "    .dataframe tbody tr th {\n",
       "        vertical-align: top;\n",
       "    }\n",
       "\n",
       "    .dataframe thead th {\n",
       "        text-align: right;\n",
       "    }\n",
       "</style>\n",
       "<table border=\"1\" class=\"dataframe\">\n",
       "  <thead>\n",
       "    <tr style=\"text-align: right;\">\n",
       "      <th></th>\n",
       "      <th>Nombre</th>\n",
       "      <th>Correo</th>\n",
       "      <th>Teléfono</th>\n",
       "      <th>Dirección</th>\n",
       "      <th>Identificación</th>\n",
       "      <th>Texto</th>\n",
       "    </tr>\n",
       "  </thead>\n",
       "  <tbody>\n",
       "    <tr>\n",
       "      <th>0</th>\n",
       "      <td>Reyes Pinilla Rosado</td>\n",
       "      <td>woliver@tena.es</td>\n",
       "      <td>+34967 400 699</td>\n",
       "      <td>Calle Rambla de Nieves Dalmau, 126, Ávila</td>\n",
       "      <td>40955969R</td>\n",
       "      <td>Mi nombre es Reyes Pinilla Rosado, puedes cont...</td>\n",
       "    </tr>\n",
       "    <tr>\n",
       "      <th>1</th>\n",
       "      <td>Evita Solsona Escobar</td>\n",
       "      <td>nicolaspou@hernandez.com</td>\n",
       "      <td>991740961</td>\n",
       "      <td>Calle Vial Luís Martín, 131, Las Palmas</td>\n",
       "      <td>34970246V</td>\n",
       "      <td>Mi nombre es Evita Solsona Escobar, puedes con...</td>\n",
       "    </tr>\n",
       "    <tr>\n",
       "      <th>2</th>\n",
       "      <td>Lorenza Mate Bayón</td>\n",
       "      <td>jimena05@iglesias.com</td>\n",
       "      <td>+34 673931008</td>\n",
       "      <td>Alameda Amador Calleja 13 Piso 1 , León, 91297</td>\n",
       "      <td>P5293902</td>\n",
       "      <td>Mi nombre es Lorenza Mate Bayón, puedes contac...</td>\n",
       "    </tr>\n",
       "    <tr>\n",
       "      <th>3</th>\n",
       "      <td>Renato González-Araujo</td>\n",
       "      <td>tomasalondra@higueras.es</td>\n",
       "      <td>916543174</td>\n",
       "      <td>Piso 5, Ávila</td>\n",
       "      <td>Y6585174Z</td>\n",
       "      <td>Mi nombre es Renato González-Araujo, puedes co...</td>\n",
       "    </tr>\n",
       "    <tr>\n",
       "      <th>4</th>\n",
       "      <td>Chus Alejandro Duarte Mayoral</td>\n",
       "      <td>iferrando@peiro.es</td>\n",
       "      <td>+34 650500564</td>\n",
       "      <td>Urbanización Eliseo Naranjo 68 Piso 8 , Ciudad...</td>\n",
       "      <td>P4418638</td>\n",
       "      <td>Mi nombre es Chus Alejandro Duarte Mayoral, pu...</td>\n",
       "    </tr>\n",
       "  </tbody>\n",
       "</table>\n",
       "</div>"
      ],
      "text/plain": [
       "                          Nombre                    Correo        Teléfono  \\\n",
       "0           Reyes Pinilla Rosado           woliver@tena.es  +34967 400 699   \n",
       "1          Evita Solsona Escobar  nicolaspou@hernandez.com       991740961   \n",
       "2             Lorenza Mate Bayón     jimena05@iglesias.com   +34 673931008   \n",
       "3         Renato González-Araujo  tomasalondra@higueras.es       916543174   \n",
       "4  Chus Alejandro Duarte Mayoral        iferrando@peiro.es   +34 650500564   \n",
       "\n",
       "                                           Dirección Identificación  \\\n",
       "0          Calle Rambla de Nieves Dalmau, 126, Ávila      40955969R   \n",
       "1            Calle Vial Luís Martín, 131, Las Palmas      34970246V   \n",
       "2     Alameda Amador Calleja 13 Piso 1 , León, 91297       P5293902   \n",
       "3                                      Piso 5, Ávila      Y6585174Z   \n",
       "4  Urbanización Eliseo Naranjo 68 Piso 8 , Ciudad...       P4418638   \n",
       "\n",
       "                                               Texto  \n",
       "0  Mi nombre es Reyes Pinilla Rosado, puedes cont...  \n",
       "1  Mi nombre es Evita Solsona Escobar, puedes con...  \n",
       "2  Mi nombre es Lorenza Mate Bayón, puedes contac...  \n",
       "3  Mi nombre es Renato González-Araujo, puedes co...  \n",
       "4  Mi nombre es Chus Alejandro Duarte Mayoral, pu...  "
      ]
     },
     "execution_count": 80,
     "metadata": {},
     "output_type": "execute_result"
    }
   ],
   "source": [
    "import pandas as pd, re, hashlib\n",
    "DATA_PATH = './data/pii_dataset.csv'\n",
    "df = pd.read_csv(DATA_PATH)\n",
    "df.head()"
   ]
  },
  {
   "cell_type": "markdown",
   "id": "756ae19b",
   "metadata": {},
   "source": [
    "## Paso 2 – Exploración inicial"
   ]
  },
  {
   "cell_type": "code",
   "execution_count": 81,
   "id": "938f3942",
   "metadata": {},
   "outputs": [
    {
     "name": "stdout",
     "output_type": "stream",
     "text": [
      "Filas: 100, Columnas: 6\n",
      "<class 'pandas.core.frame.DataFrame'>\n",
      "RangeIndex: 100 entries, 0 to 99\n",
      "Data columns (total 6 columns):\n",
      " #   Column          Non-Null Count  Dtype \n",
      "---  ------          --------------  ----- \n",
      " 0   Nombre          100 non-null    object\n",
      " 1   Correo          100 non-null    object\n",
      " 2   Teléfono        100 non-null    object\n",
      " 3   Dirección       100 non-null    object\n",
      " 4   Identificación  100 non-null    object\n",
      " 5   Texto           100 non-null    object\n",
      "dtypes: object(6)\n",
      "memory usage: 4.8+ KB\n"
     ]
    }
   ],
   "source": [
    "print(f'Filas: {df.shape[0]}, Columnas: {df.shape[1]}')\n",
    "df.info()"
   ]
  },
  {
   "cell_type": "markdown",
   "id": "404d8344",
   "metadata": {},
   "source": [
    "## Paso 3 – Definir patrones regex para PII"
   ]
  },
  {
   "cell_type": "code",
   "execution_count": 82,
   "id": "17692b78",
   "metadata": {},
   "outputs": [
    {
     "data": {
      "text/plain": [
       "{'EMAIL': re.compile(r'\\b[A-Z0-9._%+-]+@[A-Z0-9.-]+\\.[A-Z]{2,}\\b',\n",
       "            re.IGNORECASE|re.UNICODE),\n",
       " 'PHONE': re.compile(r'(?:\\+34[\\s\\-]?)?(?:\\(\\d{3}\\)[\\s\\-]?\\d{3}[\\s\\-]?\\d{3}|\\d{3}[\\s\\-]?\\d{3}[\\s\\-]?\\d{3}|\\d{3}[\\s\\-]?\\d{2}[\\s\\-]?\\d{2}[\\s\\-]?\\d{2})',\n",
       "            re.UNICODE),\n",
       " 'ID': re.compile(r'\\b(?:\\d{8}[A-Z]|[XYZ]\\d{7}[A-Z]|[A-Z]\\d{7})\\b',\n",
       "            re.IGNORECASE|re.UNICODE),\n",
       " 'ADDRESS': re.compile(r'(?i)\\b(calle|paseo|avenida|urb\\.?|urbanización|piso|ciudad|camino|plaza|puerta|callejón|vial|apt|pasaje)\\b.*?\\d+',\n",
       "            re.IGNORECASE|re.UNICODE),\n",
       " 'NAME': re.compile(r'\\b(?:[A-ZÁÉÍÓÚÑ][a-záéíóúñ]+(?:\\s+|[-])){1,}[A-ZÁÉÍÓÚÑ][a-záéíóúñ]+\\b',\n",
       "            re.UNICODE)}"
      ]
     },
     "execution_count": 82,
     "metadata": {},
     "output_type": "execute_result"
    }
   ],
   "source": [
    "patterns = {\n",
    "    'EMAIL': re.compile(r\"\\b[A-Z0-9._%+-]+@[A-Z0-9.-]+\\.[A-Z]{2,}\\b\", re.I),\n",
    "    'PHONE': re.compile(r\"(?:\\+34[\\s\\-]?)?(?:\\(\\d{3}\\)[\\s\\-]?\\d{3}[\\s\\-]?\\d{3}|\\d{3}[\\s\\-]?\\d{3}[\\s\\-]?\\d{3}|\\d{3}[\\s\\-]?\\d{2}[\\s\\-]?\\d{2}[\\s\\-]?\\d{2})\"),\n",
    "    'ID':    re.compile(r\"\\b(?:\\d{8}[A-Z]|[XYZ]\\d{7}[A-Z]|[A-Z]\\d{7})\\b\", re.I),\n",
    "    'ADDRESS': re.compile(r\"(?i)\\b(calle|paseo|avenida|urb\\.?|urbanización|piso|ciudad|camino|plaza|puerta|callejón|vial|apt|pasaje)\\b.*?\\d+\"),\n",
    "    'NAME': re.compile(r\"\\b(?:[A-ZÁÉÍÓÚÑ][a-záéíóúñ]+(?:\\s+|[-])){1,}[A-ZÁÉÍÓÚÑ][a-záéíóúñ]+\\b\")\n",
    "}\n",
    "patterns\n"
   ]
  },
  {
   "cell_type": "markdown",
   "id": "419561ae",
   "metadata": {},
   "source": [
    "## Paso 4 – Función de ofuscación"
   ]
  },
  {
   "cell_type": "code",
   "execution_count": 83,
   "id": "36f9c545",
   "metadata": {},
   "outputs": [],
   "source": [
    "def _token(tag: str, original: str) -> str:\n",
    "    return f\"<{tag}:{hashlib.sha1(original.encode()).hexdigest()[:6]}>\"\n",
    "\n",
    "def redact(text):\n",
    "    if not isinstance(text, str):\n",
    "        return text\n",
    "    for tag, pat in patterns.items():\n",
    "        text = pat.sub(lambda m: _token(tag, m.group(0)), text)\n",
    "    return text"
   ]
  },
  {
   "cell_type": "markdown",
   "id": "7dc3da19",
   "metadata": {},
   "source": [
    "## Paso 5 – Aplicar ofuscación"
   ]
  },
  {
   "cell_type": "code",
   "execution_count": 84,
   "id": "b0a4a342",
   "metadata": {},
   "outputs": [
    {
     "name": "stderr",
     "output_type": "stream",
     "text": [
      "/var/folders/k7/tjmwvmc549lftb1qckjbd96m0000gn/T/ipykernel_40521/1788964534.py:1: FutureWarning: DataFrame.applymap has been deprecated. Use DataFrame.map instead.\n",
      "  df_clean = df.applymap(redact)\n"
     ]
    },
    {
     "data": {
      "text/html": [
       "<div>\n",
       "<style scoped>\n",
       "    .dataframe tbody tr th:only-of-type {\n",
       "        vertical-align: middle;\n",
       "    }\n",
       "\n",
       "    .dataframe tbody tr th {\n",
       "        vertical-align: top;\n",
       "    }\n",
       "\n",
       "    .dataframe thead th {\n",
       "        text-align: right;\n",
       "    }\n",
       "</style>\n",
       "<table border=\"1\" class=\"dataframe\">\n",
       "  <thead>\n",
       "    <tr style=\"text-align: right;\">\n",
       "      <th></th>\n",
       "      <th>Nombre</th>\n",
       "      <th>Correo</th>\n",
       "      <th>Teléfono</th>\n",
       "      <th>Dirección</th>\n",
       "      <th>Identificación</th>\n",
       "      <th>Texto</th>\n",
       "    </tr>\n",
       "  </thead>\n",
       "  <tbody>\n",
       "    <tr>\n",
       "      <th>0</th>\n",
       "      <td>&lt;NAME:be0fa2&gt;</td>\n",
       "      <td>&lt;EMAIL:5fceaa&gt;</td>\n",
       "      <td>&lt;PHONE:90fad4&gt;</td>\n",
       "      <td>&lt;ADDRESS:8b0e79&gt;, Ávila</td>\n",
       "      <td>&lt;ID:868fc9&gt;</td>\n",
       "      <td>Mi nombre es &lt;NAME:be0fa2&gt;, puedes contactarme...</td>\n",
       "    </tr>\n",
       "    <tr>\n",
       "      <th>1</th>\n",
       "      <td>&lt;NAME:3360e8&gt;</td>\n",
       "      <td>&lt;EMAIL:70b8ea&gt;</td>\n",
       "      <td>&lt;PHONE:561259&gt;</td>\n",
       "      <td>&lt;ADDRESS:afc25f&gt;, &lt;NAME:65dd75&gt;</td>\n",
       "      <td>&lt;ID:5c44da&gt;</td>\n",
       "      <td>Mi nombre es &lt;NAME:3360e8&gt;, puedes contactarme...</td>\n",
       "    </tr>\n",
       "    <tr>\n",
       "      <th>2</th>\n",
       "      <td>&lt;NAME:eb1a10&gt;</td>\n",
       "      <td>&lt;EMAIL:ac43ac&gt;</td>\n",
       "      <td>&lt;PHONE:8c224d&gt;</td>\n",
       "      <td>&lt;NAME:7c2b8f&gt; 13 &lt;ADDRESS:510a4a&gt; , León, 91297</td>\n",
       "      <td>&lt;ID:ad8cf7&gt;</td>\n",
       "      <td>Mi nombre es &lt;NAME:eb1a10&gt;, puedes contactarme...</td>\n",
       "    </tr>\n",
       "    <tr>\n",
       "      <th>3</th>\n",
       "      <td>&lt;NAME:ca1fcc&gt;</td>\n",
       "      <td>&lt;EMAIL:a88c0f&gt;</td>\n",
       "      <td>&lt;PHONE:fda581&gt;</td>\n",
       "      <td>&lt;ADDRESS:9fefee&gt;, Ávila</td>\n",
       "      <td>&lt;ID:a64f59&gt;</td>\n",
       "      <td>Mi nombre es &lt;NAME:ca1fcc&gt;, puedes contactarme...</td>\n",
       "    </tr>\n",
       "    <tr>\n",
       "      <th>4</th>\n",
       "      <td>&lt;NAME:fa3ad7&gt;</td>\n",
       "      <td>&lt;EMAIL:890d19&gt;</td>\n",
       "      <td>&lt;PHONE:cb8ec1&gt;</td>\n",
       "      <td>&lt;ADDRESS:379cef&gt; &lt;ADDRESS:12ec9c&gt; , &lt;ADDRESS:8...</td>\n",
       "      <td>&lt;ID:7fd888&gt;</td>\n",
       "      <td>Mi nombre es &lt;NAME:fa3ad7&gt;, puedes contactarme...</td>\n",
       "    </tr>\n",
       "  </tbody>\n",
       "</table>\n",
       "</div>"
      ],
      "text/plain": [
       "          Nombre          Correo        Teléfono  \\\n",
       "0  <NAME:be0fa2>  <EMAIL:5fceaa>  <PHONE:90fad4>   \n",
       "1  <NAME:3360e8>  <EMAIL:70b8ea>  <PHONE:561259>   \n",
       "2  <NAME:eb1a10>  <EMAIL:ac43ac>  <PHONE:8c224d>   \n",
       "3  <NAME:ca1fcc>  <EMAIL:a88c0f>  <PHONE:fda581>   \n",
       "4  <NAME:fa3ad7>  <EMAIL:890d19>  <PHONE:cb8ec1>   \n",
       "\n",
       "                                           Dirección Identificación  \\\n",
       "0                            <ADDRESS:8b0e79>, Ávila    <ID:868fc9>   \n",
       "1                    <ADDRESS:afc25f>, <NAME:65dd75>    <ID:5c44da>   \n",
       "2    <NAME:7c2b8f> 13 <ADDRESS:510a4a> , León, 91297    <ID:ad8cf7>   \n",
       "3                            <ADDRESS:9fefee>, Ávila    <ID:a64f59>   \n",
       "4  <ADDRESS:379cef> <ADDRESS:12ec9c> , <ADDRESS:8...    <ID:7fd888>   \n",
       "\n",
       "                                               Texto  \n",
       "0  Mi nombre es <NAME:be0fa2>, puedes contactarme...  \n",
       "1  Mi nombre es <NAME:3360e8>, puedes contactarme...  \n",
       "2  Mi nombre es <NAME:eb1a10>, puedes contactarme...  \n",
       "3  Mi nombre es <NAME:ca1fcc>, puedes contactarme...  \n",
       "4  Mi nombre es <NAME:fa3ad7>, puedes contactarme...  "
      ]
     },
     "execution_count": 84,
     "metadata": {},
     "output_type": "execute_result"
    }
   ],
   "source": [
    "df_clean = df.applymap(redact)\n",
    "df_clean.head()"
   ]
  },
  {
   "cell_type": "markdown",
   "id": "2d35d2e5",
   "metadata": {},
   "source": [
    "## Paso 6 – Contar reemplazos"
   ]
  },
  {
   "cell_type": "code",
   "execution_count": 85,
   "id": "0f92a62b",
   "metadata": {},
   "outputs": [
    {
     "data": {
      "text/plain": [
       "Counter({'NAME': 362, 'ADDRESS': 205, 'EMAIL': 200, 'PHONE': 200, 'ID': 200})"
      ]
     },
     "execution_count": 85,
     "metadata": {},
     "output_type": "execute_result"
    }
   ],
   "source": [
    "from collections import Counter\n",
    "counts = Counter()\n",
    "for col in df.columns:\n",
    "    for val in df[col]:\n",
    "        if isinstance(val, str):\n",
    "            for tag, pat in patterns.items():\n",
    "                counts[tag] += len(pat.findall(val))\n",
    "counts"
   ]
  },
  {
   "cell_type": "markdown",
   "id": "40c2a95f",
   "metadata": {},
   "source": [
    "## Paso 7 – Guardar dataset limpio"
   ]
  },
  {
   "cell_type": "code",
   "execution_count": null,
   "id": "83b57f31",
   "metadata": {},
   "outputs": [],
   "source": []
  },
  {
   "cell_type": "code",
   "execution_count": 86,
   "id": "d19f1d82",
   "metadata": {},
   "outputs": [
    {
     "name": "stdout",
     "output_type": "stream",
     "text": [
      "Dataset limpio guardado en pii_dataset_clean.csv\n"
     ]
    }
   ],
   "source": [
    "OUTPUT_PATH = 'pii_dataset_clean.csv'\n",
    "df_clean.to_csv(OUTPUT_PATH, index=False)\n",
    "print(f'Dataset limpio guardado en {OUTPUT_PATH}')"
   ]
  },
  {
   "cell_type": "markdown",
   "id": "0be734d3",
   "metadata": {},
   "source": [
    "## Paso 8 – Conclusiones y mejoras\n",
    "- **Limitaciones:** Regex no detecta formatos poco comunes; no cubre direcciones al total, ni nombres.\n",
    "- **Mejoras:** Añadir NER con spaCy, validar DNIs, ampliar patrones.\n"
   ]
  }
 ],
 "metadata": {
  "kernelspec": {
   "display_name": ".venv",
   "language": "python",
   "name": "python3"
  },
  "language_info": {
   "codemirror_mode": {
    "name": "ipython",
    "version": 3
   },
   "file_extension": ".py",
   "mimetype": "text/x-python",
   "name": "python",
   "nbconvert_exporter": "python",
   "pygments_lexer": "ipython3",
   "version": "3.9.6"
  }
 },
 "nbformat": 4,
 "nbformat_minor": 5
}
